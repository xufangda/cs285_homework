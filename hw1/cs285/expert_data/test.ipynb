{
 "cells": [
  {
   "cell_type": "code",
   "execution_count": 33,
   "metadata": {},
   "outputs": [],
   "source": [
    "import pickle\n",
    "import os"
   ]
  },
  {
   "cell_type": "code",
   "execution_count": 12,
   "metadata": {},
   "outputs": [
    {
     "name": "stdout",
     "output_type": "stream",
     "text": [
      "C:\\00_Fangda Xu_Personal\\03_Learning_Material_课程学习\\04_CS285_Reinforcement_Learning\\01_Home_Work\\00_homework_OFFICIAL_fall2019\\hw1\\cs285\\expert_data\\expert_data_Ant-v2.pkl\n"
     ]
    }
   ],
   "source": [
    "filename='expert_data_Ant-v2.pkl'\n",
    "path=os.path.join(os.getcwd(),filename)\n",
    "print(path)"
   ]
  },
  {
   "cell_type": "code",
   "execution_count": 13,
   "metadata": {},
   "outputs": [],
   "source": [
    "with open(path, 'rb') as f:\n",
    "    data = pickle.loads(f.read())"
   ]
  },
  {
   "cell_type": "code",
   "execution_count": 36,
   "metadata": {},
   "outputs": [],
   "source": [
    "import pandas as pd\n",
    "\n",
    "pdData=pd.DataFrame(data)"
   ]
  },
  {
   "cell_type": "code",
   "execution_count": 38,
   "metadata": {},
   "outputs": [
    {
     "data": {
      "text/html": [
       "<div>\n",
       "<style scoped>\n",
       "    .dataframe tbody tr th:only-of-type {\n",
       "        vertical-align: middle;\n",
       "    }\n",
       "\n",
       "    .dataframe tbody tr th {\n",
       "        vertical-align: top;\n",
       "    }\n",
       "\n",
       "    .dataframe thead th {\n",
       "        text-align: right;\n",
       "    }\n",
       "</style>\n",
       "<table border=\"1\" class=\"dataframe\">\n",
       "  <thead>\n",
       "    <tr style=\"text-align: right;\">\n",
       "      <th></th>\n",
       "      <th>observation</th>\n",
       "      <th>image_obs</th>\n",
       "      <th>reward</th>\n",
       "      <th>action</th>\n",
       "      <th>next_observation</th>\n",
       "      <th>terminal</th>\n",
       "    </tr>\n",
       "  </thead>\n",
       "  <tbody>\n",
       "    <tr>\n",
       "      <th>0</th>\n",
       "      <td>[[0.68822366, 0.9896817, 0.05754574, -0.094636...</td>\n",
       "      <td>[]</td>\n",
       "      <td>[-0.45503202, -1.6958617, 0.023615684, 0.90698...</td>\n",
       "      <td>[[0.21775737, 0.11766042, -1.0787346, 0.116247...</td>\n",
       "      <td>[[0.7131519, 0.9907151, 0.06424748, -0.0894947...</td>\n",
       "      <td>[0.0, 0.0, 0.0, 0.0, 0.0, 0.0, 0.0, 0.0, 0.0, ...</td>\n",
       "    </tr>\n",
       "    <tr>\n",
       "      <th>1</th>\n",
       "      <td>[[0.68582505, 0.9965835, 0.027316686, -0.07465...</td>\n",
       "      <td>[]</td>\n",
       "      <td>[-0.25387394, -1.5542468, -0.07629104, 0.72781...</td>\n",
       "      <td>[[0.17383724, 0.16845126, -1.0418987, 0.192464...</td>\n",
       "      <td>[[0.7074576, 0.9959695, 0.029309278, -0.083104...</td>\n",
       "      <td>[0.0, 0.0, 0.0, 0.0, 0.0, 0.0, 0.0, 0.0, 0.0, ...</td>\n",
       "    </tr>\n",
       "  </tbody>\n",
       "</table>\n",
       "</div>"
      ],
      "text/plain": [
       "                                         observation image_obs  \\\n",
       "0  [[0.68822366, 0.9896817, 0.05754574, -0.094636...        []   \n",
       "1  [[0.68582505, 0.9965835, 0.027316686, -0.07465...        []   \n",
       "\n",
       "                                              reward  \\\n",
       "0  [-0.45503202, -1.6958617, 0.023615684, 0.90698...   \n",
       "1  [-0.25387394, -1.5542468, -0.07629104, 0.72781...   \n",
       "\n",
       "                                              action  \\\n",
       "0  [[0.21775737, 0.11766042, -1.0787346, 0.116247...   \n",
       "1  [[0.17383724, 0.16845126, -1.0418987, 0.192464...   \n",
       "\n",
       "                                    next_observation  \\\n",
       "0  [[0.7131519, 0.9907151, 0.06424748, -0.0894947...   \n",
       "1  [[0.7074576, 0.9959695, 0.029309278, -0.083104...   \n",
       "\n",
       "                                            terminal  \n",
       "0  [0.0, 0.0, 0.0, 0.0, 0.0, 0.0, 0.0, 0.0, 0.0, ...  \n",
       "1  [0.0, 0.0, 0.0, 0.0, 0.0, 0.0, 0.0, 0.0, 0.0, ...  "
      ]
     },
     "execution_count": 38,
     "metadata": {},
     "output_type": "execute_result"
    }
   ],
   "source": [
    "pdData.head()"
   ]
  },
  {
   "cell_type": "code",
   "execution_count": 33,
   "metadata": {},
   "outputs": [],
   "source": [
    "a=pdData['observation'][0]"
   ]
  },
  {
   "cell_type": "code",
   "execution_count": 35,
   "metadata": {},
   "outputs": [
    {
     "data": {
      "text/plain": [
       "(1000, 111)"
      ]
     },
     "execution_count": 35,
     "metadata": {},
     "output_type": "execute_result"
    }
   ],
   "source": [
    "import numpy as np\n",
    "a.shape"
   ]
  },
  {
   "cell_type": "code",
   "execution_count": null,
   "metadata": {},
   "outputs": [],
   "source": []
  }
 ],
 "metadata": {
  "file_extension": ".py",
  "kernelspec": {
   "display_name": "py3.7_tensorflow2.0",
   "language": "python",
   "name": "py3.7_tensorflow2.0"
  },
  "language_info": {
   "codemirror_mode": {
    "name": "ipython",
    "version": 3
   },
   "file_extension": ".py",
   "mimetype": "text/x-python",
   "name": "python",
   "nbconvert_exporter": "python",
   "pygments_lexer": "ipython3",
   "version": "3.7.5"
  },
  "mimetype": "text/x-python",
  "name": "python",
  "npconvert_exporter": "python",
  "pygments_lexer": "ipython3",
  "version": 3
 },
 "nbformat": 4,
 "nbformat_minor": 2
}
